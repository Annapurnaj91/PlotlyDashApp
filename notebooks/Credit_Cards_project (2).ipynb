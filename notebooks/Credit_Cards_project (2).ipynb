{
  "nbformat": 4,
  "nbformat_minor": 0,
  "metadata": {
    "colab": {
      "name": "Credit_Cards_project.ipynb",
      "provenance": [],
      "collapsed_sections": []
    },
    "kernelspec": {
      "name": "python3",
      "display_name": "Python 3"
    },
    "language_info": {
      "name": "python"
    }
  },
  "cells": [
    {
      "cell_type": "markdown",
      "metadata": {
        "id": "zZbgbnvU23A6"
      },
      "source": [
        "A manager at the bank is disturbed with more and more customers leaving their credit card services. \n",
        "They would really appreciate if one could predict for them who is gonna get churned so they can proactively go to the customer to provide \n",
        "them better services and turn customers' decisions in the opposite direction\n",
        "\n",
        "I got this dataset from a website with the URL as https://leaps.analyttica.com/home. \n",
        "I have been using this for a while to get datasets and accordingly work on them to produce fruitful results. \n",
        "The site explains how to solve a particular business problem.\n",
        "\n",
        "Now, this dataset consists of 10,000 customers mentioning their age, salary, marital_status, credit card limit, credit card category, etc. There are nearly 18 features.\n",
        "\n",
        "We have only 16.07% of customers who have churned. Thus, it's a bit difficult to train our model to predict churning customers.\n",
        "\n",
        "# churned customer means that the customers who are turned out or lost \n",
        "\n",
        "About this file\n",
        "PLEASE IGNORE THE LAST 2 COLUMNS (NAIVE BAYES CLAS…). I SUGGEST TO RATHER DELETE IT BEFORE DOING ANYTHING**\n",
        "\n",
        "A business manager of a consumer credit card portfolio is facing the problem of customer attrition. \n",
        "They want to analyze the data to find out the reason behind this and leverage the same to predict customers who are likely to drop off."
      ]
    },
    {
      "cell_type": "markdown",
      "metadata": {
        "id": "7xj_XdZB-gGx"
      },
      "source": [
        "## Columns or Records Information"
      ]
    },
    {
      "cell_type": "markdown",
      "metadata": {
        "id": "VGRcE5JgmYg_"
      },
      "source": [
        "\n",
        "\n",
        "- Attrition_Flag = Existing Customer, Attrited Customer \n",
        "- Dependent_count = 1to 5\n",
        "- Gender- M,F\n",
        "- Education_Level - Graduate,High School,Unknown,Uneducated,College,Post-Graduate,Doctorate\n",
        "- Marital_Status - Married,Single,Unknown,Divorced\n",
        "- Income_Category - Less than $40k,$40k-$60k,$80k-$120k,60-80k\n",
        "unknown,120k+\n",
        "- Card Category -Blue,silver,gold,platinum\n",
        "- Months_on_book - Period of relationship with bank \n",
        "- Total_Relationship_Count - Total no. of products held by the customer\n",
        "- Months_Inactive_12_mon - No. of months inactive in the last 12 months\n",
        "- Contacts_Count_12_mon - No. of Contacts in the last 12 months\n",
        "- Credit_Limit - Credit Limit on the Credit Card\n",
        "- Total_Revolving_Bal - Total Revolving Balance on the Credit Card\n",
        "- Avg_Open_To_Buy - Open to Buy Credit Line (Average of last 12 months)\n",
        "- Total_Amt_Chng_Q4_Q1 - Change in Transaction Amount (Q4 over Q1)\n",
        "- Total_Trans_Amt - Total Transaction Amount (Last 12 months)\n",
        "- Total_Trans_Ct - Total Transaction Count (Last 12 months)\n",
        "- Total_Ct_Chng_Q4_Q1 - Change in Transaction Count (Q4 over Q1)\n",
        "- Avg_Utilization_Ratio - Average Card Utilization Ratio"
      ]
    },
    {
      "cell_type": "markdown",
      "metadata": {
        "id": "I-8vPo1b7O3H"
      },
      "source": [
        "## Installing and Importing Libararies"
      ]
    },
    {
      "cell_type": "code",
      "metadata": {
        "id": "E_9gTgGc2i0v"
      },
      "source": [
        "%%capture\n",
        "import sys\n",
        "!pip install category_encoders==2.*\n",
        "!pip install pandas-profiling==2.*"
      ],
      "execution_count": 129,
      "outputs": []
    },
    {
      "cell_type": "code",
      "metadata": {
        "id": "Yq4N_WQ86QKW"
      },
      "source": [
        "# Libraries for today's project\n",
        "from sklearn.model_selection import train_test_split\n",
        "from sklearn.pipeline import make_pipeline\n",
        "from category_encoders import OneHotEncoder, OrdinalEncoder\n",
        "from sklearn.preprocessing import StandardScaler\n",
        "from sklearn.impute import SimpleImputer\n",
        "from sklearn.linear_model import LogisticRegression\n",
        "from sklearn.metrics import accuracy_score,f1_score,recall_score,plot_confusion_matrix\n",
        "from sklearn.tree import DecisionTreeClassifier, plot_tree\n",
        "from pandas_profiling import ProfileReport\n",
        "import matplotlib.pyplot as plt\n",
        "import pandas as pd\n",
        "import numpy as np\n",
        "from sklearn.ensemble import RandomForestClassifier\n",
        "from sklearn.model_selection import cross_val_score, validation_curve # k-fold CV\n",
        "from sklearn.model_selection import RandomizedSearchCV # Hyperparameter tuning\n",
        "# Boosted Models\n",
        "# Use this one if you have an M1 chip.\n",
        "from sklearn.ensemble import GradientBoostingClassifier\n",
        "from xgboost import XGBClassifier\n",
        "\n",
        "# Permutation Importance \n",
        "from sklearn.inspection import permutation_importance\n",
        "\n",
        "from sklearn.model_selection import RandomizedSearchCV # Hyperparameter tuning\n"
      ],
      "execution_count": 130,
      "outputs": []
    },
    {
      "cell_type": "markdown",
      "metadata": {
        "id": "_xwcIm6n7lzO"
      },
      "source": [
        "## Data Wrangling "
      ]
    },
    {
      "cell_type": "code",
      "metadata": {
        "id": "2aGjPsQ46aVw"
      },
      "source": [
        "def wrangle(fm_path):\n",
        "    df = pd.read_csv(fm_path,index_col='CLIENTNUM')\n",
        "    # droping unwanted columns \n",
        "    df.drop(columns='Naive_Bayes_Classifier_Attrition_Flag_Card_Category_Contacts_Count_12_mon_Dependent_count_Education_Level_Months_Inactive_12_mon_1',inplace=True)\n",
        "    df.drop(columns='Naive_Bayes_Classifier_Attrition_Flag_Card_Category_Contacts_Count_12_mon_Dependent_count_Education_Level_Months_Inactive_12_mon_2',inplace=True)\n",
        "    df['Attrition_Flag'] = df['Attrition_Flag'].apply(lambda x: 0 if x == 'Existing Customer' else 1)\n",
        "    return df"
      ],
      "execution_count": 131,
      "outputs": []
    },
    {
      "cell_type": "code",
      "metadata": {
        "colab": {
          "base_uri": "https://localhost:8080/",
          "height": 252
        },
        "id": "CQM2mjyj6oEU",
        "outputId": "066b8de5-6594-4dcd-961e-e0ba53a2350b"
      },
      "source": [
        "url='https://raw.githubusercontent.com/Annapurnaj91/Creditcardcustomers/main/BankChurners.csv'\n",
        "df = wrangle(url)\n",
        "df.head()\n",
        "# df['Attrition_Flag'].value_counts()"
      ],
      "execution_count": 132,
      "outputs": [
        {
          "output_type": "execute_result",
          "data": {
            "text/html": [
              "<div>\n",
              "<style scoped>\n",
              "    .dataframe tbody tr th:only-of-type {\n",
              "        vertical-align: middle;\n",
              "    }\n",
              "\n",
              "    .dataframe tbody tr th {\n",
              "        vertical-align: top;\n",
              "    }\n",
              "\n",
              "    .dataframe thead th {\n",
              "        text-align: right;\n",
              "    }\n",
              "</style>\n",
              "<table border=\"1\" class=\"dataframe\">\n",
              "  <thead>\n",
              "    <tr style=\"text-align: right;\">\n",
              "      <th></th>\n",
              "      <th>Attrition_Flag</th>\n",
              "      <th>Customer_Age</th>\n",
              "      <th>Gender</th>\n",
              "      <th>Dependent_count</th>\n",
              "      <th>Education_Level</th>\n",
              "      <th>Marital_Status</th>\n",
              "      <th>Income_Category</th>\n",
              "      <th>Card_Category</th>\n",
              "      <th>Months_on_book</th>\n",
              "      <th>Total_Relationship_Count</th>\n",
              "      <th>Months_Inactive_12_mon</th>\n",
              "      <th>Contacts_Count_12_mon</th>\n",
              "      <th>Credit_Limit</th>\n",
              "      <th>Total_Revolving_Bal</th>\n",
              "      <th>Avg_Open_To_Buy</th>\n",
              "      <th>Total_Amt_Chng_Q4_Q1</th>\n",
              "      <th>Total_Trans_Amt</th>\n",
              "      <th>Total_Trans_Ct</th>\n",
              "      <th>Total_Ct_Chng_Q4_Q1</th>\n",
              "      <th>Avg_Utilization_Ratio</th>\n",
              "    </tr>\n",
              "    <tr>\n",
              "      <th>CLIENTNUM</th>\n",
              "      <th></th>\n",
              "      <th></th>\n",
              "      <th></th>\n",
              "      <th></th>\n",
              "      <th></th>\n",
              "      <th></th>\n",
              "      <th></th>\n",
              "      <th></th>\n",
              "      <th></th>\n",
              "      <th></th>\n",
              "      <th></th>\n",
              "      <th></th>\n",
              "      <th></th>\n",
              "      <th></th>\n",
              "      <th></th>\n",
              "      <th></th>\n",
              "      <th></th>\n",
              "      <th></th>\n",
              "      <th></th>\n",
              "      <th></th>\n",
              "    </tr>\n",
              "  </thead>\n",
              "  <tbody>\n",
              "    <tr>\n",
              "      <th>768805383</th>\n",
              "      <td>0</td>\n",
              "      <td>45</td>\n",
              "      <td>M</td>\n",
              "      <td>3</td>\n",
              "      <td>High School</td>\n",
              "      <td>Married</td>\n",
              "      <td>$60K - $80K</td>\n",
              "      <td>Blue</td>\n",
              "      <td>39</td>\n",
              "      <td>5</td>\n",
              "      <td>1</td>\n",
              "      <td>3</td>\n",
              "      <td>12691.0</td>\n",
              "      <td>777</td>\n",
              "      <td>11914.0</td>\n",
              "      <td>1.335</td>\n",
              "      <td>1144</td>\n",
              "      <td>42</td>\n",
              "      <td>1.625</td>\n",
              "      <td>0.061</td>\n",
              "    </tr>\n",
              "    <tr>\n",
              "      <th>818770008</th>\n",
              "      <td>0</td>\n",
              "      <td>49</td>\n",
              "      <td>F</td>\n",
              "      <td>5</td>\n",
              "      <td>Graduate</td>\n",
              "      <td>Single</td>\n",
              "      <td>Less than $40K</td>\n",
              "      <td>Blue</td>\n",
              "      <td>44</td>\n",
              "      <td>6</td>\n",
              "      <td>1</td>\n",
              "      <td>2</td>\n",
              "      <td>8256.0</td>\n",
              "      <td>864</td>\n",
              "      <td>7392.0</td>\n",
              "      <td>1.541</td>\n",
              "      <td>1291</td>\n",
              "      <td>33</td>\n",
              "      <td>3.714</td>\n",
              "      <td>0.105</td>\n",
              "    </tr>\n",
              "    <tr>\n",
              "      <th>713982108</th>\n",
              "      <td>0</td>\n",
              "      <td>51</td>\n",
              "      <td>M</td>\n",
              "      <td>3</td>\n",
              "      <td>Graduate</td>\n",
              "      <td>Married</td>\n",
              "      <td>$80K - $120K</td>\n",
              "      <td>Blue</td>\n",
              "      <td>36</td>\n",
              "      <td>4</td>\n",
              "      <td>1</td>\n",
              "      <td>0</td>\n",
              "      <td>3418.0</td>\n",
              "      <td>0</td>\n",
              "      <td>3418.0</td>\n",
              "      <td>2.594</td>\n",
              "      <td>1887</td>\n",
              "      <td>20</td>\n",
              "      <td>2.333</td>\n",
              "      <td>0.000</td>\n",
              "    </tr>\n",
              "    <tr>\n",
              "      <th>769911858</th>\n",
              "      <td>0</td>\n",
              "      <td>40</td>\n",
              "      <td>F</td>\n",
              "      <td>4</td>\n",
              "      <td>High School</td>\n",
              "      <td>Unknown</td>\n",
              "      <td>Less than $40K</td>\n",
              "      <td>Blue</td>\n",
              "      <td>34</td>\n",
              "      <td>3</td>\n",
              "      <td>4</td>\n",
              "      <td>1</td>\n",
              "      <td>3313.0</td>\n",
              "      <td>2517</td>\n",
              "      <td>796.0</td>\n",
              "      <td>1.405</td>\n",
              "      <td>1171</td>\n",
              "      <td>20</td>\n",
              "      <td>2.333</td>\n",
              "      <td>0.760</td>\n",
              "    </tr>\n",
              "    <tr>\n",
              "      <th>709106358</th>\n",
              "      <td>0</td>\n",
              "      <td>40</td>\n",
              "      <td>M</td>\n",
              "      <td>3</td>\n",
              "      <td>Uneducated</td>\n",
              "      <td>Married</td>\n",
              "      <td>$60K - $80K</td>\n",
              "      <td>Blue</td>\n",
              "      <td>21</td>\n",
              "      <td>5</td>\n",
              "      <td>1</td>\n",
              "      <td>0</td>\n",
              "      <td>4716.0</td>\n",
              "      <td>0</td>\n",
              "      <td>4716.0</td>\n",
              "      <td>2.175</td>\n",
              "      <td>816</td>\n",
              "      <td>28</td>\n",
              "      <td>2.500</td>\n",
              "      <td>0.000</td>\n",
              "    </tr>\n",
              "  </tbody>\n",
              "</table>\n",
              "</div>"
            ],
            "text/plain": [
              "           Attrition_Flag  ...  Avg_Utilization_Ratio\n",
              "CLIENTNUM                  ...                       \n",
              "768805383               0  ...                  0.061\n",
              "818770008               0  ...                  0.105\n",
              "713982108               0  ...                  0.000\n",
              "769911858               0  ...                  0.760\n",
              "709106358               0  ...                  0.000\n",
              "\n",
              "[5 rows x 20 columns]"
            ]
          },
          "metadata": {},
          "execution_count": 132
        }
      ]
    },
    {
      "cell_type": "markdown",
      "metadata": {
        "id": "nqLokDdi85Xw"
      },
      "source": [
        "## Imbalanced Data"
      ]
    },
    {
      "cell_type": "code",
      "metadata": {
        "colab": {
          "base_uri": "https://localhost:8080/",
          "height": 295
        },
        "id": "jCehnw8P8-AR",
        "outputId": "1e786653-0364-4173-b2bf-52607994dfce"
      },
      "source": [
        "df['Attrition_Flag'].value_counts().plot(kind='bar', title='count (target)')"
      ],
      "execution_count": 133,
      "outputs": [
        {
          "output_type": "execute_result",
          "data": {
            "text/plain": [
              "<matplotlib.axes._subplots.AxesSubplot at 0x7fce17439610>"
            ]
          },
          "metadata": {},
          "execution_count": 133
        },
        {
          "output_type": "display_data",
          "data": {
            "image/png": "[encoded data removed]",
            "text/plain": [
              "<Figure size 432x288 with 1 Axes>"
            ]
          },
          "metadata": {
            "needs_background": "light"
          }
        }
      ]
    },
    {
      "cell_type": "code",
      "metadata": {
        "id": "8eq5hB0cD1dT"
      },
      "source": [
        "from sklearn.utils import resample\n",
        "maxcount = df['Attrition_Flag'].value_counts()[0]\n",
        "df_resampled = df[0:0]\n",
        "for grp in df['Attrition_Flag'].unique():\n",
        "    GrpDF = df[df['Attrition_Flag'] == grp]\n",
        "    resampled = resample(GrpDF, replace=True, n_samples=int(maxcount), random_state=123)\n",
        "    df_resampled = df_resampled.append(resampled)"
      ],
      "execution_count": 134,
      "outputs": []
    },
    {
      "cell_type": "code",
      "metadata": {
        "colab": {
          "base_uri": "https://localhost:8080/"
        },
        "id": "Eteg-2c9XKoe",
        "outputId": "9820421a-19bb-4c2a-f28a-e6cfaef8f51a"
      },
      "source": [
        "df_resampled['Attrition_Flag'].value_counts()"
      ],
      "execution_count": 135,
      "outputs": [
        {
          "output_type": "execute_result",
          "data": {
            "text/plain": [
              "1    8500\n",
              "0    8500\n",
              "Name: Attrition_Flag, dtype: int64"
            ]
          },
          "metadata": {},
          "execution_count": 135
        }
      ]
    },
    {
      "cell_type": "code",
      "metadata": {
        "colab": {
          "base_uri": "https://localhost:8080/",
          "height": 295
        },
        "id": "OV0slv_En2Jt",
        "outputId": "c6bc5f79-f231-4a1e-98e9-044b72489487"
      },
      "source": [
        "df_resampled['Attrition_Flag'].value_counts().plot(kind='bar', title='Balanced Target Varible')"
      ],
      "execution_count": 136,
      "outputs": [
        {
          "output_type": "execute_result",
          "data": {
            "text/plain": [
              "<matplotlib.axes._subplots.AxesSubplot at 0x7fce1793b350>"
            ]
          },
          "metadata": {},
          "execution_count": 136
        },
        {
          "output_type": "display_data",
          "data": {
            "image/png": "[encoded data removed]",
            "text/plain": [
              "<Figure size 432x288 with 1 Axes>"
            ]
          },
          "metadata": {
            "needs_background": "light"
          }
        }
      ]
    },
    {
      "cell_type": "markdown",
      "metadata": {
        "id": "ky6gpsZLrZKs"
      },
      "source": [
        "## Target Column"
      ]
    },
    {
      "cell_type": "code",
      "metadata": {
        "id": "HTbB3eMjCuWu"
      },
      "source": [
        "target = 'Attrition_Flag'\n",
        "y = df_resampled[target]\n",
        "X = df_resampled.drop(columns=['Gender','Attrition_Flag','Avg_Open_To_Buy','Income_Category','Education_Level','Dependent_count','Marital_Status','Credit_Limit','Months_on_book','Avg_Utilization_Ratio','Card_Category'])\n",
        "# X.dtypes"
      ],
      "execution_count": 137,
      "outputs": []
    },
    {
      "cell_type": "markdown",
      "metadata": {
        "id": "exYkQLUMsodE"
      },
      "source": [
        "## Spliting Data"
      ]
    },
    {
      "cell_type": "code",
      "metadata": {
        "id": "cm7dXN3RcdAt"
      },
      "source": [
        "# X_train, X_val, y_train, y_val = train_test_split(X, y, test_size=.1,random_state=42)\n",
        "\n",
        "X_train, X_test, y_train, y_test = train_test_split(X, y, test_size=.1,random_state=42)\n",
        "X_train, X_val, y_train, y_val = train_test_split(X_train, y_train, test_size=.1,random_state=42)\n"
      ],
      "execution_count": 138,
      "outputs": []
    },
    {
      "cell_type": "markdown",
      "metadata": {
        "id": "aT7XnJzctofg"
      },
      "source": [
        "## Base Line Accuracy"
      ]
    },
    {
      "cell_type": "code",
      "metadata": {
        "colab": {
          "base_uri": "https://localhost:8080/"
        },
        "id": "Vqo67LRfttg4",
        "outputId": "0139df4f-0660-4909-aeb3-0ae01ac4ba28"
      },
      "source": [
        "print(\"Baseline is the frequency of the majority class (most common category):\",y_train.value_counts(normalize=True)[0])"
      ],
      "execution_count": 139,
      "outputs": [
        {
          "output_type": "stream",
          "name": "stdout",
          "text": [
            "Baseline is the frequency of the majority class (most common category): 0.49970951343500364\n"
          ]
        }
      ]
    },
    {
      "cell_type": "markdown",
      "metadata": {
        "id": "6uYE0UiEtfRI"
      },
      "source": [
        "## Logistic Regression"
      ]
    },
    {
      "cell_type": "code",
      "metadata": {
        "colab": {
          "base_uri": "https://localhost:8080/"
        },
        "id": "8axxI-crtjgE",
        "outputId": "f0c4662b-43a6-4f89-d412-d432d020268a"
      },
      "source": [
        "model_lr = make_pipeline(\n",
        "    OneHotEncoder(use_cat_names=True),\n",
        "    SimpleImputer(strategy='mean'),\n",
        "    StandardScaler(),\n",
        "    LogisticRegression(max_iter =300))\n",
        "\n",
        "model_lr.fit(X_train, y_train)"
      ],
      "execution_count": 140,
      "outputs": [
        {
          "output_type": "execute_result",
          "data": {
            "text/plain": [
              "Pipeline(memory=None,\n",
              "         steps=[('onehotencoder',\n",
              "                 OneHotEncoder(cols=[], drop_invariant=False,\n",
              "                               handle_missing='value', handle_unknown='value',\n",
              "                               return_df=True, use_cat_names=True, verbose=0)),\n",
              "                ('simpleimputer',\n",
              "                 SimpleImputer(add_indicator=False, copy=True, fill_value=None,\n",
              "                               missing_values=nan, strategy='mean',\n",
              "                               verbose=0)),\n",
              "                ('standardscaler',\n",
              "                 StandardScaler(copy=True, with_mean=True, with_std=True)),\n",
              "                ('logisticregression',\n",
              "                 LogisticRegression(C=1.0, class_weight=None, dual=False,\n",
              "                                    fit_intercept=True, intercept_scaling=1,\n",
              "                                    l1_ratio=None, max_iter=300,\n",
              "                                    multi_class='auto', n_jobs=None,\n",
              "                                    penalty='l2', random_state=None,\n",
              "                                    solver='lbfgs', tol=0.0001, verbose=0,\n",
              "                                    warm_start=False))],\n",
              "         verbose=False)"
            ]
          },
          "metadata": {},
          "execution_count": 140
        }
      ]
    },
    {
      "cell_type": "markdown",
      "metadata": {
        "id": "Q3NKKakjtWHh"
      },
      "source": [
        "## Random Forest Classifier "
      ]
    },
    {
      "cell_type": "code",
      "metadata": {
        "colab": {
          "base_uri": "https://localhost:8080/"
        },
        "id": "8GWMyXCiEQY1",
        "outputId": "d6a6e84d-e68a-49f0-b5e1-22843be0e031"
      },
      "source": [
        "#RandomForest\n",
        "model_rf = make_pipeline(\n",
        "    OrdinalEncoder(),\n",
        "    SimpleImputer(),\n",
        "    DecisionTreeClassifier(random_state=42)\n",
        ")\n",
        "\n",
        "model_rf.fit(X_train, y_train)"
      ],
      "execution_count": 141,
      "outputs": [
        {
          "output_type": "execute_result",
          "data": {
            "text/plain": [
              "Pipeline(memory=None,\n",
              "         steps=[('ordinalencoder',\n",
              "                 OrdinalEncoder(cols=[], drop_invariant=False,\n",
              "                                handle_missing='value', handle_unknown='value',\n",
              "                                mapping=[], return_df=True, verbose=0)),\n",
              "                ('simpleimputer',\n",
              "                 SimpleImputer(add_indicator=False, copy=True, fill_value=None,\n",
              "                               missing_values=nan, strategy='mean',\n",
              "                               verbose=0)),\n",
              "                ('decisiontreeclassifier',\n",
              "                 DecisionTreeClassifier(ccp_alpha=0.0, class_weight=None,\n",
              "                                        criterion='gini', max_depth=None,\n",
              "                                        max_features=None, max_leaf_nodes=None,\n",
              "                                        min_impurity_decrease=0.0,\n",
              "                                        min_impurity_split=None,\n",
              "                                        min_samples_leaf=1, min_samples_split=2,\n",
              "                                        min_weight_fraction_leaf=0.0,\n",
              "                                        presort='deprecated', random_state=42,\n",
              "                                        splitter='best'))],\n",
              "         verbose=False)"
            ]
          },
          "metadata": {},
          "execution_count": 141
        }
      ]
    },
    {
      "cell_type": "markdown",
      "metadata": {
        "id": "amf8I0Zkt1zn"
      },
      "source": [
        "## Gradient Boosting"
      ]
    },
    {
      "cell_type": "code",
      "metadata": {
        "colab": {
          "base_uri": "https://localhost:8080/"
        },
        "id": "dfsMuVYUt-ao",
        "outputId": "adcacecc-ffc2-4d6f-e8fb-faea331ac7f6"
      },
      "source": [
        "# Gradient Boosting\n",
        "model_xgb = make_pipeline(\n",
        "    OrdinalEncoder(),\n",
        "    SimpleImputer(),\n",
        "    GradientBoostingClassifier()\n",
        ")\n",
        "\n",
        "model_xgb.fit(X_train, y_train)"
      ],
      "execution_count": 142,
      "outputs": [
        {
          "output_type": "execute_result",
          "data": {
            "text/plain": [
              "Pipeline(memory=None,\n",
              "         steps=[('ordinalencoder',\n",
              "                 OrdinalEncoder(cols=[], drop_invariant=False,\n",
              "                                handle_missing='value', handle_unknown='value',\n",
              "                                mapping=[], return_df=True, verbose=0)),\n",
              "                ('simpleimputer',\n",
              "                 SimpleImputer(add_indicator=False, copy=True, fill_value=None,\n",
              "                               missing_values=nan, strategy='mean',\n",
              "                               verbose=0)),\n",
              "                ('gradientboostingclassifier',\n",
              "                 GradientBoostingClassi...\n",
              "                                            learning_rate=0.1, loss='deviance',\n",
              "                                            max_depth=3, max_features=None,\n",
              "                                            max_leaf_nodes=None,\n",
              "                                            min_impurity_decrease=0.0,\n",
              "                                            min_impurity_split=None,\n",
              "                                            min_samples_leaf=1,\n",
              "                                            min_samples_split=2,\n",
              "                                            min_weight_fraction_leaf=0.0,\n",
              "                                            n_estimators=100,\n",
              "                                            n_iter_no_change=None,\n",
              "                                            presort='deprecated',\n",
              "                                            random_state=None, subsample=1.0,\n",
              "                                            tol=0.0001, validation_fraction=0.1,\n",
              "                                            verbose=0, warm_start=False))],\n",
              "         verbose=False)"
            ]
          },
          "metadata": {},
          "execution_count": 142
        }
      ]
    },
    {
      "cell_type": "markdown",
      "metadata": {
        "id": "kf5XE3aovqUd"
      },
      "source": [
        "## Hyperparameter Tuning"
      ]
    },
    {
      "cell_type": "code",
      "metadata": {
        "colab": {
          "base_uri": "https://localhost:8080/"
        },
        "id": "LpT28bl-vyEC",
        "outputId": "0110876a-0007-4e55-ed65-19c9f96240b9"
      },
      "source": [
        "clf = make_pipeline(OrdinalEncoder(),\n",
        "                    SimpleImputer(),\n",
        "                    RandomForestClassifier(random_state=42,n_jobs=-1),\n",
        "                    )\n",
        "param_grid = {\n",
        "    'simpleimputer__strategy':['mean','median'],\n",
        "    'randomforestclassifier__max_depth':range(20,80,5),\n",
        "    'randomforestclassifier__n_estimators':range(25,125,25)\n",
        "}\n",
        "\n",
        "model = RandomizedSearchCV(\n",
        "    clf,\n",
        "    param_distributions = param_grid,\n",
        "    n_jobs = -1,\n",
        "    cv = 7,\n",
        "    verbose = 1,\n",
        "    n_iter = 25\n",
        ")\n",
        "model.fit(X_train,y_train)"
      ],
      "execution_count": 143,
      "outputs": [
        {
          "output_type": "stream",
          "name": "stdout",
          "text": [
            "Fitting 7 folds for each of 25 candidates, totalling 175 fits\n"
          ]
        },
        {
          "output_type": "stream",
          "name": "stderr",
          "text": [
            "[Parallel(n_jobs=-1)]: Using backend LokyBackend with 2 concurrent workers.\n",
            "[Parallel(n_jobs=-1)]: Done  46 tasks      | elapsed:   30.8s\n",
            "[Parallel(n_jobs=-1)]: Done 175 out of 175 | elapsed:  2.0min finished\n"
          ]
        },
        {
          "output_type": "execute_result",
          "data": {
            "text/plain": [
              "RandomizedSearchCV(cv=7, error_score=nan,\n",
              "                   estimator=Pipeline(memory=None,\n",
              "                                      steps=[('ordinalencoder',\n",
              "                                              OrdinalEncoder(cols=None,\n",
              "                                                             drop_invariant=False,\n",
              "                                                             handle_missing='value',\n",
              "                                                             handle_unknown='value',\n",
              "                                                             mapping=None,\n",
              "                                                             return_df=True,\n",
              "                                                             verbose=0)),\n",
              "                                             ('simpleimputer',\n",
              "                                              SimpleImputer(add_indicator=False,\n",
              "                                                            copy=True,\n",
              "                                                            fill_value=None,\n",
              "                                                            missing_values=nan,\n",
              "                                                            strategy='mean',\n",
              "                                                            verbose=0)...\n",
              "                                                                     verbose=0,\n",
              "                                                                     warm_start=False))],\n",
              "                                      verbose=False),\n",
              "                   iid='deprecated', n_iter=25, n_jobs=-1,\n",
              "                   param_distributions={'randomforestclassifier__max_depth': range(20, 80, 5),\n",
              "                                        'randomforestclassifier__n_estimators': range(25, 125, 25),\n",
              "                                        'simpleimputer__strategy': ['mean',\n",
              "                                                                    'median']},\n",
              "                   pre_dispatch='2*n_jobs', random_state=None, refit=True,\n",
              "                   return_train_score=False, scoring=None, verbose=1)"
            ]
          },
          "metadata": {},
          "execution_count": 143
        }
      ]
    },
    {
      "cell_type": "markdown",
      "metadata": {
        "id": "aRNpGv7buF3N"
      },
      "source": [
        "## Evaluation Metrics"
      ]
    },
    {
      "cell_type": "code",
      "metadata": {
        "colab": {
          "base_uri": "https://localhost:8080/"
        },
        "id": "VoHekjU2uWzX",
        "outputId": "54b539f8-5a47-4a50-d6cd-d6e608834a33"
      },
      "source": [
        "print('Logistic Regression Training Accuracy', accuracy_score(y_train, model_lr.predict(X_train)))\n",
        "print('Logistic Regression Validation Accuracy', accuracy_score(y_val, model_lr.predict(X_val)))"
      ],
      "execution_count": 144,
      "outputs": [
        {
          "output_type": "stream",
          "name": "stdout",
          "text": [
            "Logistic Regression Training Accuracy 0.8406681190994917\n",
            "Logistic Regression Validation Accuracy 0.8490196078431372\n"
          ]
        }
      ]
    },
    {
      "cell_type": "code",
      "metadata": {
        "colab": {
          "base_uri": "https://localhost:8080/"
        },
        "id": "v_4ncC3WuQop",
        "outputId": "faa41946-c93f-45ee-8658-0f0dec0f776a"
      },
      "source": [
        "print('Random Forest Training Accuracy', model_rf.score(X_train, y_train))\n",
        "print('Random Forest Validation Accuracy', model_rf.score(X_val, y_val))"
      ],
      "execution_count": 145,
      "outputs": [
        {
          "output_type": "stream",
          "name": "stdout",
          "text": [
            "Random Forest Training Accuracy 1.0\n",
            "Random Forest Validation Accuracy 0.9908496732026144\n"
          ]
        }
      ]
    },
    {
      "cell_type": "code",
      "metadata": {
        "colab": {
          "base_uri": "https://localhost:8080/"
        },
        "id": "z75Tn8TmuUBC",
        "outputId": "0e6db876-06f6-4982-bcb1-ce60a3e1f609"
      },
      "source": [
        "print('Gradient Boost Training Accuracy', model_xgb.score(X_train, y_train))\n",
        "print('Gradient Boost Validation Accuracy', model_xgb.score(X_val, y_val))\n",
        "print('Gradient Boost Validation Accuracy', model_xgb.score(X_test, y_test))"
      ],
      "execution_count": 163,
      "outputs": [
        {
          "output_type": "stream",
          "name": "stdout",
          "text": [
            "Gradient Boost Training Accuracy 0.9655773420479303\n",
            "Gradient Boost Validation Accuracy 0.9647058823529412\n",
            "Gradient Boost Validation Accuracy 0.9588235294117647\n"
          ]
        }
      ]
    },
    {
      "cell_type": "code",
      "metadata": {
        "colab": {
          "base_uri": "https://localhost:8080/"
        },
        "id": "4WkiTe4_yvqv",
        "outputId": "14519edd-d6af-43a4-b61c-4d2aab3ca5b3"
      },
      "source": [
        "best_score = model.best_score_\n",
        "best_params = model.best_params_\n",
        "\n",
        "print('Best score for `model`:', best_score)\n",
        "print('Best params for `model`:', best_params)"
      ],
      "execution_count": 147,
      "outputs": [
        {
          "output_type": "stream",
          "name": "stdout",
          "text": [
            "Best score for `model`: 0.9909223736365477\n",
            "Best params for `model`: {'simpleimputer__strategy': 'median', 'randomforestclassifier__n_estimators': 100, 'randomforestclassifier__max_depth': 55}\n"
          ]
        }
      ]
    },
    {
      "cell_type": "markdown",
      "metadata": {
        "id": "AQEHpmH1ujfb"
      },
      "source": [
        "## Permutation Importances (Data Leakage)"
      ]
    },
    {
      "cell_type": "code",
      "metadata": {
        "id": "-2pogrPEupaR"
      },
      "source": [
        "column = 'Months_Inactive_12_mon'\n",
        "# It's not that hard to permute (shuffle up the values) a column manually \n",
        "X_val_perm = X_val.copy()\n",
        "X_val_perm[column]=np.random.permutation(X_val_perm[column])\n",
        "# calculate validation accuracy "
      ],
      "execution_count": 148,
      "outputs": []
    },
    {
      "cell_type": "code",
      "metadata": {
        "id": "g4zJmf6dute7"
      },
      "source": [
        "perm_imp = permutation_importance(model_xgb,X_val,y_val,n_jobs=-1,random_state=42)"
      ],
      "execution_count": 149,
      "outputs": []
    },
    {
      "cell_type": "code",
      "metadata": {
        "colab": {
          "base_uri": "https://localhost:8080/"
        },
        "id": "MZwBpX9_uwQL",
        "outputId": "66ac4426-18e5-4ea1-cd91-de3c2aa17a60"
      },
      "source": [
        "perm_imp['importances'][:,0:1].sum()"
      ],
      "execution_count": 150,
      "outputs": [
        {
          "output_type": "execute_result",
          "data": {
            "text/plain": [
              "0.5856209150326798"
            ]
          },
          "metadata": {},
          "execution_count": 150
        }
      ]
    },
    {
      "cell_type": "code",
      "metadata": {
        "colab": {
          "base_uri": "https://localhost:8080/"
        },
        "id": "c3rt_b4wuy30",
        "outputId": "670fdcfe-a9f5-4bcc-9786-d9546b9eb661"
      },
      "source": [
        "# put this in a dataframe to plot feature importances\n",
        "data = {'imp_mean': perm_imp['importances_mean'],\n",
        "        'imp_std': perm_imp['importances_std']}\n",
        "\n",
        "importances = pd.DataFrame(data, index=X_val.columns).sort_values(by='imp_mean', ascending=False)\n",
        "\n",
        "importances['imp_mean']"
      ],
      "execution_count": 151,
      "outputs": [
        {
          "output_type": "execute_result",
          "data": {
            "text/plain": [
              "Total_Trans_Ct              0.298301\n",
              "Total_Trans_Amt             0.154641\n",
              "Total_Revolving_Bal         0.039085\n",
              "Total_Amt_Chng_Q4_Q1        0.029412\n",
              "Total_Relationship_Count    0.027190\n",
              "Total_Ct_Chng_Q4_Q1         0.015425\n",
              "Customer_Age                0.005229\n",
              "Contacts_Count_12_mon       0.005098\n",
              "Months_Inactive_12_mon      0.003922\n",
              "Name: imp_mean, dtype: float64"
            ]
          },
          "metadata": {},
          "execution_count": 151
        }
      ]
    },
    {
      "cell_type": "code",
      "metadata": {
        "colab": {
          "base_uri": "https://localhost:8080/",
          "height": 282
        },
        "id": "UkE42NfUu4Ll",
        "outputId": "d74e9347-4ac0-4991-c923-96c42a73ac9f"
      },
      "source": [
        "importances['imp_mean'].head(10).plot(kind='barh')"
      ],
      "execution_count": 152,
      "outputs": [
        {
          "output_type": "execute_result",
          "data": {
            "text/plain": [
              "<matplotlib.axes._subplots.AxesSubplot at 0x7fce155eda50>"
            ]
          },
          "metadata": {},
          "execution_count": 152
        },
        {
          "output_type": "display_data",
          "data": {
            "image/png": "[encoded data removed]",
            "text/plain": [
              "<Figure size 432x288 with 1 Axes>"
            ]
          },
          "metadata": {
            "needs_background": "light"
          }
        }
      ]
    },
    {
      "cell_type": "markdown",
      "metadata": {
        "id": "PLs7Vlax9jID"
      },
      "source": [
        "## Accuracy Score,F1 Score, Recall Score"
      ]
    },
    {
      "cell_type": "code",
      "metadata": {
        "id": "Ma08_kxOEp43"
      },
      "source": [
        "y_pred = model_rf.predict(X_val)"
      ],
      "execution_count": 153,
      "outputs": []
    },
    {
      "cell_type": "code",
      "metadata": {
        "colab": {
          "base_uri": "https://localhost:8080/"
        },
        "id": "CJO_BzlaEhtB",
        "outputId": "154b20fd-42cc-4f11-938d-61c8ea8ba6eb"
      },
      "source": [
        "accuracy_score(y_val, y_pred)"
      ],
      "execution_count": 154,
      "outputs": [
        {
          "output_type": "execute_result",
          "data": {
            "text/plain": [
              "0.9908496732026144"
            ]
          },
          "metadata": {},
          "execution_count": 154
        }
      ]
    },
    {
      "cell_type": "code",
      "metadata": {
        "colab": {
          "base_uri": "https://localhost:8080/"
        },
        "id": "_h_MHLWOGQHo",
        "outputId": "68cdc20f-0931-41bd-c772-ff189f3f0f06"
      },
      "source": [
        "f1_score(y_val, y_pred)"
      ],
      "execution_count": 155,
      "outputs": [
        {
          "output_type": "execute_result",
          "data": {
            "text/plain": [
              "0.9909443725743854"
            ]
          },
          "metadata": {},
          "execution_count": 155
        }
      ]
    },
    {
      "cell_type": "code",
      "metadata": {
        "colab": {
          "base_uri": "https://localhost:8080/"
        },
        "id": "GW21vD0tGjdr",
        "outputId": "679470a1-50e7-470f-b30b-b3ddadc9eebd"
      },
      "source": [
        "recall_score(y_val,y_pred)"
      ],
      "execution_count": 156,
      "outputs": [
        {
          "output_type": "execute_result",
          "data": {
            "text/plain": [
              "1.0"
            ]
          },
          "metadata": {},
          "execution_count": 156
        }
      ]
    },
    {
      "cell_type": "markdown",
      "metadata": {
        "id": "FcYntOrxh0b1"
      },
      "source": [
        "## Classification Report & Confusion Matrix"
      ]
    },
    {
      "cell_type": "code",
      "metadata": {
        "colab": {
          "base_uri": "https://localhost:8080/",
          "height": 278
        },
        "id": "afxXD3vmiMzI",
        "outputId": "f7ccd886-588e-4fbc-a4d1-2f78cdd95361"
      },
      "source": [
        "plot_confusion_matrix(\n",
        "    model_rf,\n",
        "    X_val, # BE SURE TO USE VALIDATION DATA\n",
        "    y_val,\n",
        "    values_format='.0f',\n",
        "    display_labels=['Existing Customer', 'Attrited Customer']\n",
        ");"
      ],
      "execution_count": 157,
      "outputs": [
        {
          "output_type": "display_data",
          "data": {
            "image/png": "[encoded data removed]",
            "text/plain": [
              "<Figure size 432x288 with 2 Axes>"
            ]
          },
          "metadata": {
            "needs_background": "light"
          }
        }
      ]
    },
    {
      "cell_type": "code",
      "metadata": {
        "colab": {
          "base_uri": "https://localhost:8080/"
        },
        "id": "8_nYmH9miNJF",
        "outputId": "0ce2a1e1-6886-4dc8-a897-727689bdad7e"
      },
      "source": [
        "# metrics\n",
        "from sklearn.metrics import accuracy_score, plot_confusion_matrix, precision_score \n",
        "from sklearn.metrics import recall_score, classification_report, roc_auc_score, plot_roc_curve\n",
        "\n",
        "print(classification_report(y_val, model_rf.predict(X_val)))"
      ],
      "execution_count": 158,
      "outputs": [
        {
          "output_type": "stream",
          "name": "stdout",
          "text": [
            "              precision    recall  f1-score   support\n",
            "\n",
            "           0       1.00      0.98      0.99       764\n",
            "           1       0.98      1.00      0.99       766\n",
            "\n",
            "    accuracy                           0.99      1530\n",
            "   macro avg       0.99      0.99      0.99      1530\n",
            "weighted avg       0.99      0.99      0.99      1530\n",
            "\n"
          ]
        }
      ]
    },
    {
      "cell_type": "markdown",
      "metadata": {
        "id": "QuxcVpDBu7i2"
      },
      "source": [
        "## Algorithm for Imbalanced Data"
      ]
    },
    {
      "cell_type": "code",
      "metadata": {
        "colab": {
          "base_uri": "https://localhost:8080/"
        },
        "id": "S1cX-Wc_GmVJ",
        "outputId": "fe8593d6-357c-4105-e545-f28b7ff05677"
      },
      "source": [
        "# load library\n",
        "from sklearn.svm import SVC\n",
        "\n",
        "# we can add class_weight='balanced' to add panalize mistake\n",
        "svc_model = SVC(class_weight='balanced', probability=True)\n",
        "\n",
        "svc_model.fit(X_train, y_train)\n",
        "\n",
        "svc_predict = svc_model.predict(X_val)# check performance\n",
        "# print('ROCAUC score:',roc_auc_score(y_val, svc_predict))\n",
        "print('score:',svc_model.score(X_val,y_val))\n",
        "print('Accuracy score:',accuracy_score(y_val, svc_predict))\n",
        "print('F1 score:',f1_score(y_val, svc_predict))\n",
        "print('Accuracy score:',accuracy_score(y_train, svc_model.predict(X_train)))"
      ],
      "execution_count": 159,
      "outputs": [
        {
          "output_type": "stream",
          "name": "stdout",
          "text": [
            "score: 0.8058823529411765\n",
            "Accuracy score: 0.8058823529411765\n",
            "F1 score: 0.7936066712995136\n",
            "Accuracy score: 0.8106027596223675\n"
          ]
        }
      ]
    },
    {
      "cell_type": "markdown",
      "metadata": {
        "id": "hVvow1uYeSBJ"
      },
      "source": [
        "## Plotly Dash App"
      ]
    },
    {
      "cell_type": "code",
      "metadata": {
        "id": "8Hir7PGViNtH",
        "colab": {
          "base_uri": "https://localhost:8080/"
        },
        "outputId": "7cab9dcb-6d20-4985-a760-2bc4c4da48a1"
      },
      "source": [
        "from joblib import dump\n",
        "dump(model_rf, 'pipeline.joblib', compress=True)\n"
      ],
      "execution_count": 160,
      "outputs": [
        {
          "output_type": "execute_result",
          "data": {
            "text/plain": [
              "['pipeline.joblib']"
            ]
          },
          "metadata": {},
          "execution_count": 160
        }
      ]
    },
    {
      "cell_type": "code",
      "metadata": {
        "id": "s1d3JT4yeXR9",
        "colab": {
          "base_uri": "https://localhost:8080/",
          "height": 16
        },
        "outputId": "e2bb83c9-27d3-4a48-b34b-70804e0e650e"
      },
      "source": [
        "# how to download the files from the drive\n",
        "from google.colab import files \n",
        "files.download(\"pipeline.joblib\")"
      ],
      "execution_count": 161,
      "outputs": [
        {
          "output_type": "display_data",
          "data": {
            "application/javascript": [
              "\n",
              "    async function download(id, filename, size) {\n",
              "      if (!google.colab.kernel.accessAllowed) {\n",
              "        return;\n",
              "      }\n",
              "      const div = document.createElement('div');\n",
              "      const label = document.createElement('label');\n",
              "      label.textContent = `Downloading \"${filename}\": `;\n",
              "      div.appendChild(label);\n",
              "      const progress = document.createElement('progress');\n",
              "      progress.max = size;\n",
              "      div.appendChild(progress);\n",
              "      document.body.appendChild(div);\n",
              "\n",
              "      const buffers = [];\n",
              "      let downloaded = 0;\n",
              "\n",
              "      const channel = await google.colab.kernel.comms.open(id);\n",
              "      // Send a message to notify the kernel that we're ready.\n",
              "      channel.send({})\n",
              "\n",
              "      for await (const message of channel.messages) {\n",
              "        // Send a message to notify the kernel that we're ready.\n",
              "        channel.send({})\n",
              "        if (message.buffers) {\n",
              "          for (const buffer of message.buffers) {\n",
              "            buffers.push(buffer);\n",
              "            downloaded += buffer.byteLength;\n",
              "            progress.value = downloaded;\n",
              "          }\n",
              "        }\n",
              "      }\n",
              "      const blob = new Blob(buffers, {type: 'application/binary'});\n",
              "      const a = document.createElement('a');\n",
              "      a.href = window.URL.createObjectURL(blob);\n",
              "      a.download = filename;\n",
              "      div.appendChild(a);\n",
              "      a.click();\n",
              "      div.remove();\n",
              "    }\n",
              "  "
            ],
            "text/plain": [
              "<IPython.core.display.Javascript object>"
            ]
          },
          "metadata": {}
        },
        {
          "output_type": "display_data",
          "data": {
            "application/javascript": [
              "download(\"download_d4f2c319-a1ee-42a5-b29e-f36a72b8a5d1\", \"pipeline.joblib\", 13194)"
            ],
            "text/plain": [
              "<IPython.core.display.Javascript object>"
            ]
          },
          "metadata": {}
        }
      ]
    },
    {
      "cell_type": "code",
      "metadata": {
        "colab": {
          "base_uri": "https://localhost:8080/"
        },
        "id": "2BxM1dYvhCya",
        "outputId": "d1be6538-ab73-4388-8c6f-0fbc8d3065db"
      },
      "source": [
        "import joblib\n",
        "import sklearn\n",
        "import category_encoders as ce\n",
        "import xgboost\n",
        "print(f'joblib=={joblib.__version__}')\n",
        "print(f'scikit-learn=={sklearn.__version__}')\n",
        "print(f'category_encoders=={ce.__version__}')\n",
        "print(f'xgboost=={xgboost.__version__}')"
      ],
      "execution_count": 162,
      "outputs": [
        {
          "output_type": "stream",
          "name": "stdout",
          "text": [
            "joblib==1.0.1\n",
            "scikit-learn==0.22.2.post1\n",
            "category_encoders==2.3.0\n",
            "xgboost==0.90\n"
          ]
        }
      ]
    }
  ]
}